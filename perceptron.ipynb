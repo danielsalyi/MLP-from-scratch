{
 "cells": [
  {
   "cell_type": "markdown",
   "metadata": {},
   "source": [
    "<h2>1. Multi-Layer Perceptron</h2>\n",
    "In this project, you will implement a Multi-Layer Perceptron (MLP) from scratch to classify digits in the MNIST dataset[1]. Your layers must have both forward and backward pass implementations. Do NOT use inbuilt functions from PyTorch[2], or other similar libraries for the implementation of the following. You are allowed to load the MNIST dataset in any way of your choice"
   ]
  },
  {
   "cell_type": "markdown",
   "metadata": {},
   "source": [
    "<h3>1.1 Implementation</h3>"
   ]
  },
  {
   "cell_type": "code",
   "execution_count": 90,
   "metadata": {},
   "outputs": [],
   "source": [
    "# imports\n",
    "import numpy as np\n",
    "import pandas as pd\n",
    "import matplotlib.pyplot as plt\n"
   ]
  },
  {
   "cell_type": "code",
   "execution_count": 91,
   "metadata": {},
   "outputs": [
    {
     "data": {
      "text/plain": [
       "array([109, 189, 161, 220, 206, 171,  82,  33,  22, 142, 116, 172,  35,\n",
       "        35, 212,  75,  30, 117, 214, 160, 164, 233, 226, 198, 177, 182,\n",
       "         8,  15,  66, 157,  75, 135, 243, 155,  99,  22,  44,  29, 203,\n",
       "       172, 112,  37, 186, 227,  84, 153,   0, 233, 134, 251,  91,  41,\n",
       "       210, 121, 217, 106,   6, 141,  36, 139,  30,  16,   5,  10, 171,\n",
       "        57, 183, 253,  66,  66, 122,  19, 162, 153, 137, 144, 175,  75,\n",
       "       219, 221, 251,   9,  91, 250,  99, 127, 107,  84, 180, 103, 155,\n",
       "       200,  16,  54, 254, 253, 175, 134,  99,   8,  99, 110, 130, 205,\n",
       "        26, 153,  12, 231,  41, 188, 185,  66,  53, 105,  19, 238,  41,\n",
       "       130, 160,  50, 196,  65,  56,  85, 220,  17, 155, 253,  95, 115,\n",
       "       114, 167, 179, 194, 168,  68, 162,  89, 126, 248,  25, 145,  62,\n",
       "        17, 232, 198,  44, 172,  72, 233,  57, 181, 194,  99,  49, 129,\n",
       "        34, 130,  13, 120, 116,  41,  82,  72,  45, 133, 102, 188, 143,\n",
       "       160, 151,  16,  54, 113, 105,  98,  52, 171,  30, 150, 151,  99,\n",
       "        45, 132,  50,  93,  13, 198, 159,  91,  50, 155,  83, 173,  59,\n",
       "       216,  58, 169, 112, 141,  11, 224, 199, 110,  65,  69, 213,   9,\n",
       "       223,  27, 112,  49, 112, 245, 208,  16,   7, 233, 127, 153,  93,\n",
       "       182, 201, 151, 241, 124, 238, 171, 159,  93, 101, 180, 103, 226,\n",
       "        31, 173, 242, 214,   7,  19,  25, 100, 187,   1, 230,  57, 154,\n",
       "       217, 242, 224,  77,  21, 115, 226,  37,  84,   7, 238, 205, 200,\n",
       "       182,  56, 116,  32, 144,  82, 209, 106, 102,  75, 191, 144, 159,\n",
       "        45, 136, 214, 216, 157,  36,  56, 152,   9,  59, 107, 156, 145,\n",
       "        26,  71,  69,  16, 118,  46,  45,  20, 192, 118, 104, 190, 140,\n",
       "       134, 185,  64, 194, 195, 231,  88, 159, 215, 203, 160,  82, 201,\n",
       "        72, 237, 212, 186,  67, 221,  91,  68, 176,  94,  76,  97, 241,\n",
       "       214,   1, 225,  58,  71,  43,  76, 128, 239,  22, 219, 203, 227,\n",
       "       205, 207,  95, 113, 155,  44,   5, 186,  41,   8, 142, 104,   5,\n",
       "        42,   3, 222, 224, 172, 114, 145,  33, 234,  18, 220,  24, 120,\n",
       "        70, 206,  75,  69,  61, 135, 153, 224,  38,   0,  72,  51, 162,\n",
       "       202, 189, 194, 239, 164, 223,  72,   9,  76, 231, 236, 132,  87,\n",
       "       250, 108, 227, 206,  93,  44, 121, 212, 112,  21,   8,  52, 137,\n",
       "        71, 244,  60,  83,  71,  92, 202,  49, 237,  50,  62,  79, 212,\n",
       "        67,  91, 205, 124, 189, 189, 109, 244, 114,  83,  39, 223, 219,\n",
       "       251,  57, 126,  38, 137, 211,  83, 239, 103,  56,  64, 107, 165,\n",
       "        66, 242,  98, 156, 216, 210, 219,  31,  44, 207, 236, 244, 182,\n",
       "       210, 226, 109, 168,  86,  55, 223, 136,  21, 140,  74, 247,  20,\n",
       "       203,  30, 237, 201, 218, 247,  64,  32, 236, 185,  19,  80, 143,\n",
       "        10, 121,  77, 200, 248,  78, 242, 205, 104, 242, 191, 157,  13,\n",
       "       218, 249,  62, 195, 207, 210, 106, 199, 253, 223,   7,  37,  95,\n",
       "       225, 140, 230, 114,  60, 159, 250,  22, 179,  66, 181,  10,  26,\n",
       "       135,  41,  82, 118,  86, 166,  19, 166,   9,  24, 197, 169, 163,\n",
       "       191, 167, 215, 122, 164, 147, 166,  31,  41, 102,  93, 100, 252,\n",
       "        17, 183, 176, 165,  28, 145,   5,  29, 185,  96, 139,  30, 101,\n",
       "       244, 182, 199, 180, 202, 192, 176,  18,  18,  27,  84, 132,  37,\n",
       "       109,  51, 210, 204, 152, 252,  65,  51, 184,  27, 148,  94, 148,\n",
       "        55,  46,   8, 204, 114, 178, 138,  15,  65, 216,  59, 227,  50,\n",
       "        24,  37,  26,  22, 119, 244,  70, 188,  46, 245,  82,  76, 159,\n",
       "       143, 165,  64,  96, 229, 204,  49, 143, 116, 220, 188,   8, 157,\n",
       "        53, 167, 192, 249,  60, 155,  93, 227, 197,   9, 124,  57, 241,\n",
       "        96, 254, 252, 207,  79, 122,  34,   8, 104, 220,  33, 246,  77,\n",
       "        73, 233, 254,  40, 226,  94,  31, 188, 125, 235,  58, 185, 107,\n",
       "       138, 196, 102,  62, 185, 127, 178,  30,  30, 146,  86,  70, 202,\n",
       "        36,  12,  99,  61, 158, 221, 204, 250, 226, 222, 100, 134,  44,\n",
       "       127,  76, 237,  49, 107,  16, 207, 179, 173,  94,  58,  48, 117,\n",
       "       211, 201,  46, 139, 196, 105, 234, 156, 235,  22, 156, 217,  47,\n",
       "       115,  79, 205, 188, 149,   1, 153,  62, 119, 189, 197,  18,  90,\n",
       "        43, 220,  55, 166, 250, 151, 218,  75, 152, 224, 214, 151, 162,\n",
       "       114,  39,  71,  19,   8,   9,  17, 177,  58,  66, 214,  65,  12,\n",
       "       204, 254, 232, 136, 139, 209,  95, 222,  24,  23, 170,  30, 238,\n",
       "       106,  82, 227,  36, 199, 201, 100, 225, 163,  87,  35,  62,  67,\n",
       "       151, 163, 215, 242])"
      ]
     },
     "execution_count": 91,
     "metadata": {},
     "output_type": "execute_result"
    }
   ],
   "source": [
    "# 1.1.1 Fully-connected layer with bias.\n",
    "\n",
    "# A network of neurons consits of:\n",
    "# - input layer,\n",
    "# - hidden layers,\n",
    "# - output layer\n",
    "\n",
    "# An input layer is an array of values, which in this case, are pixel values\n",
    "# if we have a 28x28 size images as an input, the array must be 28x28=784 in lenght\n",
    "\n",
    "# we do not really need to create it with a randoms, but its better for now\n",
    "# create a 28x28 matrix of random numbers between 0 and 255\n",
    "input_layer = np.random.randint(0,255, size=784) \n",
    "\n",
    "input_layer\n"
   ]
  },
  {
   "cell_type": "code",
   "execution_count": 92,
   "metadata": {},
   "outputs": [
    {
     "data": {
      "text/plain": [
       "array([[ 2.06879415, -1.09928959, -1.14313464, ...,  0.30544253,\n",
       "         1.66699775,  0.31027354],\n",
       "       [-0.92521754, -1.8460449 ,  0.11219043, ...,  0.12378389,\n",
       "        -1.48881563,  0.77560211],\n",
       "       [-0.47674237,  1.16710682,  1.68536099, ..., -0.51614561,\n",
       "        -0.11315473,  0.32514885],\n",
       "       ...,\n",
       "       [-0.77067026, -1.49171678, -0.52609562, ...,  1.3028038 ,\n",
       "         0.78503196,  0.18527681],\n",
       "       [-1.08955746,  1.19011538, -0.97584537, ...,  0.43755919,\n",
       "         1.03042035,  0.01221615],\n",
       "       [-0.97578062, -1.54232985,  1.82266134, ..., -1.33055833,\n",
       "         0.17717887, -1.54972064]])"
      ]
     },
     "execution_count": 92,
     "metadata": {},
     "output_type": "execute_result"
    }
   ],
   "source": [
    "\n",
    "# Now, we need to create the hidden layers\n",
    "# We are going to create a layer, with 16 neurons \n",
    "\n",
    "# But first, lets see how a neuron should look like:\n",
    "# input1 * weight1 + input2 * weight2 + ... input_n * weight_n + bias = output\n",
    "# a neuron has:\n",
    "# - input of n\n",
    "# - weights of n\n",
    "# - a bias\n",
    "# - an output\n",
    "\n",
    "# given that our network must be fully connected, each neuron is connected to every other neuron in the network\n",
    "# Therefore:\n",
    "# A neuron in the first hidden layer will have 784 weights and 1 bias\n",
    "# input1 * weight1 + input2 * weight2 + ... input784 * weight784 + bias\n",
    "\n",
    "# However, we cannot possible copy code for this many variables.\n",
    "# A more conveinet way of thinking and solving our problems is to use 2D arrays and loops.\n",
    "# Therefore: \n",
    "# layer_1 = [\n",
    "#            [input1 * weight1 + input2 * weight2 + ... input1024 * weight1024 + bias1]  <- 1st neuron\n",
    "#            ...\n",
    "#            [input1 * weight1 + input2 * weight2 + ... input1024 * weight1024 + bias16] <- 16th neuron\n",
    "#            ]\n",
    "#\n",
    "# Layer_1 will have 16 arrays, as we have 16 neurons\n",
    "# inside, 784 weights, for each neuron, 12544 weights in total.\n",
    "# But to create such a layer, we are going to use numpy\n",
    "\n",
    "# 784x16 array with random numbers, as the weights needs to be initalized 0\n",
    "layer_1 = np.random.randn(784, 16)\n",
    "\n",
    "layer_1  # log the layer"
   ]
  },
  {
   "cell_type": "code",
   "execution_count": 93,
   "metadata": {},
   "outputs": [
    {
     "data": {
      "text/plain": [
       "array([ 3909.65629603,  2550.51050846,  2531.46987866,  2978.87961677,\n",
       "       -2188.5180039 ,  5365.61399097,  2174.20392484,  7640.61746444,\n",
       "        -557.7451888 , -4429.86315229,  4721.70801517,  5476.48689019,\n",
       "        1385.30048244,   182.89906453, -1423.03725865,   437.3139281 ])"
      ]
     },
     "execution_count": 93,
     "metadata": {},
     "output_type": "execute_result"
    }
   ],
   "source": [
    "\n",
    "# Now we got an idea how a layer should look like, however,\n",
    "# we still haven't got a way to compute between the layers.\n",
    "# If we look a bit further from the problem, we might see that an array is basically a matrix.\n",
    "\n",
    "# layer_1 is an array, that holds many other arrays (AKA matrixes). \n",
    "# The inner arrays are numbers, which are the weights.\n",
    "# So if we take a look how a neuron should look like:\n",
    "# input1 * weight1 + input2 * weight2 + ... input_n * weight_n + bias = output\n",
    "# The only missing piece of the equation is the multiplication.\n",
    "# We know the inputs, we know the weights, but how do we multiply and get an ouput?\n",
    "# Matrix Dot products!\n",
    "\n",
    "\n",
    "# Since we are thinking of matrixes, we can use dot products\n",
    "# And since we are using numpy, it will help us with the calculations.\n",
    "\n",
    "# So given the input and the weights, we get an output for each neuron\n",
    "layer_1_output = np.dot(input_layer, layer_1) \n",
    "\n",
    "# Considering the biases, which is just an other matrix:\n",
    "bias_1 = np.random.randint(1, 3, (16))\n",
    "\n",
    "# We just add them together\n",
    "layer_1_output = layer_1_output + bias_1\n",
    "layer_1_output\n"
   ]
  },
  {
   "cell_type": "code",
   "execution_count": 94,
   "metadata": {},
   "outputs": [],
   "source": [
    "# Now, we have half of our network. But extend this like this\n",
    "# we would need to copy paste everything and its really unconfortable.\n",
    "# a nicer solution would be to create a class\n",
    "\n",
    "class Dense_Layer:\n",
    "    def __init__(self, n_inputs, n_neurons, activator):\n",
    "        self.weights = 0.1 * np.random.randn(n_inputs, n_neurons)\n",
    "        self.biases = np.zeros((1, n_neurons))\n",
    "\n",
    "    def forward(self, input):\n",
    "        self.input = input\n",
    "        output = np.dot(input, self.weights) + self.biases\n",
    "        self.output = output\n",
    "\n",
    "        return output\n"
   ]
  },
  {
   "cell_type": "code",
   "execution_count": 95,
   "metadata": {},
   "outputs": [],
   "source": [
    "# the ReLU and Sigmoid functions\n",
    "\n",
    "def relu(x):\n",
    "    return np.maximum(0.0, x)\n",
    "\n",
    "def sigmoid(x):\n",
    "    return 1.0 / (1 + np.exp(-x))\n"
   ]
  },
  {
   "cell_type": "code",
   "execution_count": 96,
   "metadata": {},
   "outputs": [
    {
     "data": {
      "text/plain": [
       "array([[ 0.0908662 ,  0.0981669 ,  0.3117164 ,  0.67126832,  0.4863839 ,\n",
       "        -0.39532996, -0.28892862, -0.48732883,  0.37355713,  0.59011461]])"
      ]
     },
     "execution_count": 96,
     "metadata": {},
     "output_type": "execute_result"
    }
   ],
   "source": [
    "# we can create a full NN with a few lines with activators\n",
    "\n",
    "layer_1 = Dense_Layer(784, 30, 'relu')\n",
    "layer_2 = Dense_Layer(30, 30, 'relu')\n",
    "layer_3 = Dense_Layer(30, 10, 'sigmoid')\n",
    "\n",
    "\n",
    "input_layer = np.random.randint(1,10, size=784) # random input\n",
    "layer_1.forward(input_layer)    # hidden\n",
    "layer_2.forward(relu(layer_1.output)) # hidden\n",
    "layer_3.forward(sigmoid(layer_2.output)) # output\n"
   ]
  },
  {
   "cell_type": "code",
   "execution_count": null,
   "metadata": {},
   "outputs": [],
   "source": [
    "# Cross-Entropy loss\n",
    "\n",
    "output = np.array([[0.7, 0.1, 0.2],\n",
    "                   [0.1, 0.9, 0.4],\n",
    "                   [0.02, 0.9, 0.08]])\n",
    "target = np.array([0, 1, 1])\n",
    "\n",
    "def loss_function(y_pred, y_true):\n",
    "\n",
    "    # clip the values so there is no division with 0\n",
    "    # make it both sides so it stays even\n",
    "    y_pred_clipped = np.clip(y_pred, 1e-7, 1 - 1e-7)\n",
    "\n",
    "    # return the max value from each row vector\n",
    "    confidence = y_pred_clipped[range(len(y_pred)), y_true]\n",
    "        \n",
    "    # take the negative log function\n",
    "    log_loss = -np.log(confidence)\n",
    "    return log_loss # return the average of those values\n",
    "\n",
    "\n",
    "# upto this point, we have most of our functions, \n",
    "# however we need to do backpropagation, and maybe define a few more functions\n",
    "# for the backpropagation, make it into classes so its easier to use"
   ]
  },
  {
   "cell_type": "code",
   "execution_count": 98,
   "metadata": {},
   "outputs": [],
   "source": [
    "# for backprop, we have to update a few things...\n",
    "# lets begin with the Dense layer\n",
    "\n",
    "\n",
    "class Dense_Layer:\n",
    "    def __init__(self, n_inputs, n_neurons):\n",
    "        self.weights = 0.1 * np.random.randn(n_inputs, n_neurons) \n",
    "        self.biases = np.zeros((1, n_neurons))\n",
    "\n",
    "    def forward(self, inputs):\n",
    "        self.inputs = inputs # remember the input values\n",
    "        self.output = np.dot(inputs, self.weights) + self.biases\n",
    "\n",
    "    def backward(self, d_values):\n",
    "\n",
    "        # calculate the gradients \n",
    "        # these calculations are also on the slides \n",
    "        self.d_weights = np.dot(self.inputs.T, d_values)\n",
    "        self.d_biases = np.sum(d_values, axis=0, keepdims=1)\n",
    "        self.d_inputs = np.dot(d_values, self.weights.T)\n"
   ]
  },
  {
   "cell_type": "code",
   "execution_count": 99,
   "metadata": {},
   "outputs": [],
   "source": [
    "# for the activators\n",
    "\n",
    "class Activation_ReLU:\n",
    "\n",
    "    # forward pass for Relu\n",
    "    def forward(self, inputs):\n",
    "        self.inputs = inputs\n",
    "        self.output = np.maximum(0, inputs)\n",
    "\n",
    "    # derivative for backprop\n",
    "    def backward(self, d_values):\n",
    "        # copy the matrix so it doesnt get edited by function \n",
    "        self.d_inputs = d_values.copy()\n",
    "\n",
    "        # where the inputs are less or 0, make it 0\n",
    "        self.d_inputs[self.inputs <= 0] = 0\n"
   ]
  },
  {
   "cell_type": "code",
   "execution_count": 100,
   "metadata": {},
   "outputs": [],
   "source": [
    "class Activation_Sigmoid:\n",
    "\n",
    "    def forward(self, inputs):\n",
    "        self.inputs = inputs\n",
    "        self.output = 1.0 / (1 + np.exp(-inputs))\n",
    "\n",
    "    def backward(self, d_values):\n",
    "        # copy the matrix so it doesnt get edited by function \n",
    "        self.d_inputs = d_values.copy()\n",
    "\n",
    "        # derivative of sigmoid\n",
    "        self.d_inputs = d_values * (1.0 - d_values)\n"
   ]
  },
  {
   "cell_type": "code",
   "execution_count": 101,
   "metadata": {},
   "outputs": [],
   "source": [
    "# softmax is a better activator and more commonly used then sigmoid\n",
    "# so i will use this to get better results\n",
    "# its also mentioned in class a lot, so I thought its okey\n",
    "\n",
    "class Activation_Softmax:\n",
    "\n",
    "    def forward(self, inputs):\n",
    "\n",
    "        self.inputs = inputs #remember inputs\n",
    "\n",
    "        # index unnormalized probabilities\n",
    "        exp_values = np.exp(inputs - np.max(inputs, axis=1, keepdims=True))\n",
    "        \n",
    "        # normalize them\n",
    "        probabilities = exp_values / np.sum(exp_values, axis=1,keepdims=True)\n",
    "\n",
    "        self.output = probabilities # output\n",
    "\n",
    "    def backward(self, d_values):\n",
    "        self.d_inputs = np.empty_like(d_values) # create array\n",
    "\n",
    "        # enumare the outputs and the gradients at the same time\n",
    "        for index, (single_output, single_d_values) in enumerate(zip(self.output, d_values)):\n",
    "            # flatten output array\n",
    "            single_output = single_output.reshape(-1,1)\n",
    "\n",
    "            jacobian_matrix = np.diagflat(single_output) - np.dot(single_output, single_output.T)\n",
    "\n",
    "            # calc sample wise gradient and add it to array\n",
    "            self.d_inputs[index] = np.dot(jacobian_matrix, single_d_values)\n",
    "\n",
    "    \n"
   ]
  },
  {
   "cell_type": "code",
   "execution_count": 102,
   "metadata": {},
   "outputs": [],
   "source": [
    "# also lets edit our loss function a bit\n",
    "\n",
    "class Loss_CategoricalCrossEntropy():\n",
    "\n",
    "    def calculate(self, output, y):\n",
    "\n",
    "        # get individual losses\n",
    "        losses = self.forward(output, y)\n",
    "\n",
    "        #return average\n",
    "        return np.mean(losses)\n",
    "\n",
    "    # in forward, its just calculating the loss\n",
    "    def forward(self, y_pred, y_true):\n",
    "\n",
    "        # clip the values so there is no division with 0\n",
    "        # make it both sides so it stays even\n",
    "        y_pred_clipped = np.clip(y_pred, 1e-7, 1 - 1e-7)\n",
    "\n",
    "        # return the max value from each row vector\n",
    "        # this is only for categorical labels\n",
    "        if len(y_true.shape) == 1:\n",
    "            confidence = y_pred_clipped[range(len(y_pred)), y_true]\n",
    "\n",
    "        # we need to add a different method if the there is one-hot encoded labels\n",
    "        # it doesnt happen in this excersise, but I thought its a nice addition\n",
    "        elif len(y_true.shape) == 2:\n",
    "            confidence = np.sum(y_pred_clipped * y_true, axis=1)\n",
    "        \n",
    "        # take the negative log function\n",
    "        log_loss = -np.log(confidence)\n",
    "        return log_loss\n",
    "\n",
    "\n",
    "    # backward here means calculating gradient... It might make the process a bit more\n",
    "    # \"straight forward\", so its mainly just a naming convention \n",
    "    def backward(self, d_values, y_true):\n",
    "        \n",
    "        # we need a one-hot encoder if we dont have it already\n",
    "        if len(y_true.shape) == 1:\n",
    "            y_true = np.eye(len(d_values[0]))[y_true]\n",
    "\n",
    "        # calculate the gradient\n",
    "        self.d_inputs = (-y_true / d_values ) / len(d_values)\n"
   ]
  },
  {
   "cell_type": "code",
   "execution_count": 103,
   "metadata": {},
   "outputs": [],
   "source": [
    "# to make things even more straight forward,\n",
    "# i combine the softmax wiht the loss function, so its faster\n",
    "class Activation_Softmax_With_CCE:\n",
    "\n",
    "    def __init__(self):\n",
    "\n",
    "        # get the 2 components\n",
    "        self.activation = Activation_Softmax()\n",
    "        self.loss = Loss_CategoricalCrossEntropy()\n",
    "\n",
    "    def forward(self, inputs, y_true):\n",
    "        \n",
    "        self.activation.forward(inputs) # activator\n",
    "        self.output = self.activation.output #output\n",
    "\n",
    "        self.loss_val = self.loss.calculate(self.output, y_true)\n",
    "    \n",
    "    def backward(self, d_values, y_true):\n",
    "\n",
    "        # if the labels are hot-encoded turn them to 1 array\n",
    "        if len(y_true.shape) == 2:\n",
    "            y_true = np.argmax(y_true, axis=1)\n",
    "\n",
    "        self.d_inputs = d_values.copy()\n",
    "        self.d_inputs[range(len(d_values)), y_true] -= 1\n",
    "\n",
    "        self.d_inputs = self.d_inputs / len(d_values)\n"
   ]
  },
  {
   "cell_type": "code",
   "execution_count": 104,
   "metadata": {},
   "outputs": [],
   "source": [
    "# finally, lets create an optimizer class which will update the values\n",
    "\n",
    "class Optimizer_SGD:\n",
    "\n",
    "    def __init__(self, learning_rate):\n",
    "        self.learning_rate = learning_rate\n",
    "\n",
    "    # a function that gets the d_values and updates them\n",
    "    # in relation to the learning rate\n",
    "    def update_params(self, layer:Dense_Layer):\n",
    "        layer.weights -= layer.d_weights * self.learning_rate \n",
    "        layer.biases -= layer.d_biases * self.learning_rate"
   ]
  },
  {
   "cell_type": "code",
   "execution_count": 105,
   "metadata": {},
   "outputs": [],
   "source": [
    "# load the MNIST dataset from a csv\n",
    "train_data = pd.read_csv('./data/mnist_train.csv')\n",
    "test_data = pd.read_csv('./data/mnist_test.csv')"
   ]
  },
  {
   "cell_type": "code",
   "execution_count": 106,
   "metadata": {},
   "outputs": [
    {
     "name": "stdout",
     "output_type": "stream",
     "text": [
      "Epoch: 1, Accuracy: 0.5793641414141418, Loss: 1.3932028118095885\n",
      "Epoch: 2, Accuracy: 0.8674484848484855, Loss: 0.4463917216686439\n",
      "Epoch: 3, Accuracy: 0.9016488215488224, Loss: 0.33071062197994394\n",
      "Epoch: 4, Accuracy: 0.9158491582491587, Loss: 0.28352138799508675\n",
      "Epoch: 5, Accuracy: 0.9262324915824928, Loss: 0.2514638222111909\n",
      "accuracy: 83.8%\n"
     ]
    },
    {
     "data": {
      "image/png": "[encoded data removed]",
      "text/plain": [
       "<Figure size 640x480 with 1 Axes>"
      ]
     },
     "metadata": {},
     "output_type": "display_data"
    }
   ],
   "source": [
    "\n",
    "cost_history = []\n",
    "accuracy_history = []\n",
    "\n",
    "# create the layers\n",
    "dense_1 = Dense_Layer(784, 128)\n",
    "dense_2 = Dense_Layer(128, 64)\n",
    "dense_3 = Dense_Layer(64, 32)\n",
    "dense_4 = Dense_Layer(32, 10)\n",
    "\n",
    "# create the activators\n",
    "activator1 = Activation_ReLU()\n",
    "activator2 = Activation_ReLU()\n",
    "activator3 = Activation_ReLU()\n",
    "loss_and_activation = Activation_Softmax_With_CCE()\n",
    "\n",
    "optimizer = Optimizer_SGD(0.018)\n",
    "\n",
    "# iterate the data with some array magic\n",
    "batch_size = 100\n",
    "batch = [train_data[i:i+batch_size] for i in range(0, len(train_data), batch_size)]\n",
    "\n",
    "epochs = 5\n",
    "\n",
    "for epoch in range(epochs):\n",
    "\n",
    "    loss_val = 0\n",
    "    acc_val = 0\n",
    "\n",
    "    # iterate in batches (60k/batch_size)\n",
    "    for i in range(600):\n",
    "\n",
    "        # iter data\n",
    "        first_column = batch[i].columns[0]\n",
    "        x = batch[i].drop(columns=first_column).to_numpy()\n",
    "        x = (x - np.mean(x)) /255.0 # normalize data\n",
    "        y = batch[i][first_column].to_numpy()\n",
    "\n",
    "        # forward\n",
    "        input_layer = x\n",
    "        dense_1.forward(input_layer)        # hidden\n",
    "        activator1.forward(dense_1.output)  # relu\n",
    "        dense_2.forward(activator1.output)     # hidden\n",
    "        activator2.forward(dense_2.output)  # relu\n",
    "        dense_3.forward(activator2.output)     # output\n",
    "        activator3.forward(dense_3.output)  # relu\n",
    "        dense_4.forward(activator3.output)     # output\n",
    "        loss_and_activation.forward(dense_4.output, y) # loss and softmax\n",
    "        \n",
    "        # save the loss and accuracy\n",
    "        prediction = np.argmax(loss_and_activation.output, axis=1)\n",
    "        acc_val += np.mean(prediction == y)\n",
    "        loss_val += loss_and_activation.loss_val\n",
    "\n",
    "        # backprop\n",
    "        loss_and_activation.backward(loss_and_activation.output, y)\n",
    "        dense_4.backward(loss_and_activation.d_inputs)\n",
    "        activator3.backward(dense_4.d_inputs)\n",
    "        dense_3.backward(activator3.d_inputs)\n",
    "        activator2.backward(dense_3.d_inputs)\n",
    "        dense_2.backward(activator2.d_inputs)\n",
    "        activator1.backward(dense_2.d_inputs)\n",
    "        dense_1.backward(activator1.d_inputs)\n",
    "\n",
    "        # update\n",
    "        optimizer.update_params(dense_1)\n",
    "        optimizer.update_params(dense_2)\n",
    "        optimizer.update_params(dense_3)\n",
    "        optimizer.update_params(dense_4)\n",
    "\n",
    "    # save the loss and accuracy\n",
    "    cost_history.append(loss_val/600)\n",
    "    accuracy_history.append(acc_val/600)\n",
    "\n",
    "    # print the epoch, accuracy and loss\n",
    "    print(f'Epoch: {epoch+1}, Accuracy: {acc_val/600}, Loss: {loss_val/600}')    \n",
    "\n",
    "plt.plot(cost_history, label='loss')\n",
    "plt.plot(accuracy_history, label='accuracy')\n",
    "plt.legend(['loss', 'accuracy'])\n",
    "plt.title('Loss and accuracy of scratch network')\n",
    "\n",
    "np.mean(accuracy_history)\n",
    "\n",
    "print('accuracy: {:.1f}%'.format(np.mean(accuracy_history)*100))\n"
   ]
  },
  {
   "cell_type": "code",
   "execution_count": 107,
   "metadata": {},
   "outputs": [
    {
     "name": "stdout",
     "output_type": "stream",
     "text": [
      "accuracy: 95.0%\n"
     ]
    }
   ],
   "source": [
    "# lets see how it performs on the test set\n",
    "\n",
    "accuracy_history = []\n",
    "\n",
    "i = 0\n",
    "batch_size = 100\n",
    "batch = [test_data[i:i+batch_size] for i in range(0, len(test_data), batch_size)]\n",
    "epochs = 60\n",
    "\n",
    "for epoch in range(epochs):\n",
    "\n",
    "    # iter data\n",
    "    first_column = batch[i].columns[0]\n",
    "    x = batch[i].drop(columns=first_column).to_numpy()\n",
    "    x = (x - np.mean(x)) /255.0 # normalize data\n",
    "    y = batch[i][first_column].to_numpy()\n",
    "    i += 0\n",
    "\n",
    "    # forward\n",
    "    input_layer = x\n",
    "    dense_1.forward(input_layer)        # hidden\n",
    "    activator1.forward(dense_1.output)  # relu\n",
    "    dense_2.forward(activator1.output)     # hidden\n",
    "    activator2.forward(dense_2.output)  # relu\n",
    "    dense_3.forward(activator2.output)     # output\n",
    "    activator3.forward(dense_3.output)  # relu\n",
    "    dense_4.forward(activator3.output)     # output\n",
    "    loss_and_activation.forward(dense_4.output, y) # loss and softmax\n",
    "    \n",
    "    cost_history.append(loss_and_activation.loss_val)\n",
    "    prediction = np.argmax(loss_and_activation.output, axis=1)\n",
    "    if len(y.shape) == 2:\n",
    "        y= np.argmax(y, axis=1)\n",
    "    accuracy_history.append(np.mean(prediction == y))\n",
    "    \n",
    "\n",
    "np.mean(accuracy_history)\n",
    "print('accuracy: {:.1f}%'.format(np.mean(accuracy_history)*100))"
   ]
  },
  {
   "cell_type": "code",
   "execution_count": 108,
   "metadata": {},
   "outputs": [],
   "source": [
    "# question 1.4 \n",
    "\n",
    "# imports\n",
    "\n",
    "import torch\n",
    "from torchvision import datasets\n",
    "import torchvision.transforms as transforms\n",
    "import torch.nn as nn\n",
    "import torch.nn.functional as F"
   ]
  },
  {
   "cell_type": "code",
   "execution_count": 113,
   "metadata": {},
   "outputs": [],
   "source": [
    "# I think its easier to reload the data and normalize it again\n",
    "# then use my custom function which is questionable I admit\n",
    "# I also need to make it for the next assigment as well so its better to do it now\n",
    "\n",
    "transform = transforms.Compose([\n",
    "    transforms.ToTensor(),\n",
    "    transforms.Normalize((0.1307,), (0.3081,))                    \n",
    "    ])\n",
    "\n",
    "train_data = datasets.MNIST(root='data', train=True, download=True, transform=transform)\n",
    "test_data = datasets.MNIST(root='data', train=False, download=True, transform=transform)\n",
    "\n",
    "batch_size = 20\n",
    "\n",
    "train_loader = torch.utils.data.DataLoader(train_data, batch_size=batch_size)\n",
    "test_loader = torch.utils.data.DataLoader(test_data, batch_size=batch_size)"
   ]
  },
  {
   "cell_type": "code",
   "execution_count": 114,
   "metadata": {},
   "outputs": [
    {
     "data": {
      "text/plain": [
       "<matplotlib.image.AxesImage at 0x21c458ecac0>"
      ]
     },
     "execution_count": 114,
     "metadata": {},
     "output_type": "execute_result"
    },
    {
     "data": {
      "image/png": "[encoded data removed]",
      "text/plain": [
       "<Figure size 640x480 with 1 Axes>"
      ]
     },
     "metadata": {},
     "output_type": "display_data"
    }
   ],
   "source": [
    "# get one batch of data\n",
    "dataiter = iter(train_loader)\n",
    "images, labels = next(dataiter)\n",
    "images = images.numpy()\n",
    "\n",
    "# plot the first image\n",
    "plt.imshow(np.squeeze(images[0]), cmap='gray_r')\n"
   ]
  },
  {
   "cell_type": "code",
   "execution_count": 115,
   "metadata": {},
   "outputs": [
    {
     "name": "stdout",
     "output_type": "stream",
     "text": [
      "MLP(\n",
      "  (layer1): Linear(in_features=784, out_features=512, bias=True)\n",
      "  (layer2): Linear(in_features=512, out_features=512, bias=True)\n",
      "  (layer3): Linear(in_features=512, out_features=10, bias=True)\n",
      "  (dropout): Dropout(p=0.2, inplace=False)\n",
      ")\n"
     ]
    }
   ],
   "source": [
    "# https://github.com/udacity/deep-learning-v2-pytorch/blob/master/convolutional-neural-networks/mnist-mlp/mnist_mlp_solution.ipynb\n",
    "\n",
    "# Create MLP from pytoch class\n",
    "class MLP(nn.Module):\n",
    "    def __init__(self):\n",
    "        super(MLP, self).__init__()\n",
    "        self.layer1 = nn.Linear(28 * 28, 512)\n",
    "        self.layer2 = nn.Linear(512, 512)\n",
    "        self.layer3 = nn.Linear(512, 10)\n",
    "        self.dropout = nn.Dropout(p=0.2)\n",
    "\n",
    "    def forward(self, x):\n",
    "        x = x.view(-1, 28 * 28)\n",
    "\n",
    "        x = F.relu(self.layer1(x))\n",
    "        x = self.dropout(x)\n",
    "        x = F.relu(self.layer2(x))\n",
    "        x = self.dropout(x)\n",
    "        x = self.layer3(x)\n",
    "        return x \n",
    "        \n",
    "    \n",
    "model = MLP()\n",
    "print(model)\n",
    "\n"
   ]
  },
  {
   "cell_type": "code",
   "execution_count": 116,
   "metadata": {},
   "outputs": [
    {
     "name": "stdout",
     "output_type": "stream",
     "text": [
      "Epoch: 1, Accuracy: 0.932783333333333, Loss: 0.22277957760871506\n",
      "Epoch: 2, Accuracy: 0.9705999999999955, Loss: 0.10002334627003438\n",
      "Epoch: 3, Accuracy: 0.9780999999999936, Loss: 0.07118088643934364\n",
      "Epoch: 4, Accuracy: 0.9824333333333272, Loss: 0.05653458994449041\n",
      "Epoch: 5, Accuracy: 0.9853666666666607, Loss: 0.04561132675714544\n",
      "Epoch: 6, Accuracy: 0.9872333333333275, Loss: 0.038941946257789066\n",
      "Epoch: 7, Accuracy: 0.9887333333333274, Loss: 0.03375685038616204\n",
      "Epoch: 8, Accuracy: 0.9900166666666622, Loss: 0.029917540169797426\n",
      "Epoch: 9, Accuracy: 0.9915666666666628, Loss: 0.024279861278814527\n",
      "Epoch: 10, Accuracy: 0.9917166666666625, Loss: 0.025255311247401192\n",
      "Epoch: 11, Accuracy: 0.9918666666666613, Loss: 0.022902654573424476\n",
      "Epoch: 12, Accuracy: 0.9938666666666631, Loss: 0.017698193001877742\n",
      "Epoch: 13, Accuracy: 0.9934499999999952, Loss: 0.018949416663864772\n",
      "Epoch: 14, Accuracy: 0.9937166666666639, Loss: 0.018396867025161627\n",
      "Epoch: 15, Accuracy: 0.9948666666666638, Loss: 0.015315348351935092\n",
      "Epoch: 16, Accuracy: 0.9954333333333301, Loss: 0.01400117559699031\n",
      "Epoch: 17, Accuracy: 0.9952833333333301, Loss: 0.013726078922076671\n",
      "Epoch: 18, Accuracy: 0.9954666666666646, Loss: 0.013264519028943012\n",
      "Epoch: 19, Accuracy: 0.9956999999999974, Loss: 0.012428590721530493\n",
      "Epoch: 20, Accuracy: 0.9959333333333312, Loss: 0.012190302608663413\n",
      "Epoch: 21, Accuracy: 0.9965499999999976, Loss: 0.0109952826618251\n",
      "Epoch: 22, Accuracy: 0.9958666666666642, Loss: 0.01256349918637105\n",
      "Epoch: 23, Accuracy: 0.9966666666666644, Loss: 0.01003920711790324\n",
      "Epoch: 24, Accuracy: 0.9977666666666662, Loss: 0.007009265781430553\n",
      "Epoch: 25, Accuracy: 0.9975999999999984, Loss: 0.0077703063321448275\n",
      "Epoch: 26, Accuracy: 0.9968333333333298, Loss: 0.009488736387296848\n",
      "Epoch: 27, Accuracy: 0.9965666666666642, Loss: 0.010516821107174902\n",
      "Epoch: 28, Accuracy: 0.9978666666666655, Loss: 0.006956176978978175\n",
      "Epoch: 29, Accuracy: 0.9962999999999985, Loss: 0.011817091645299432\n",
      "Epoch: 30, Accuracy: 0.9974999999999989, Loss: 0.007955816916806859\n"
     ]
    }
   ],
   "source": [
    "\n",
    "criterion = nn.CrossEntropyLoss()\n",
    "optimizer = torch.optim.SGD(model.parameters(), lr=0.08)\n",
    "\n",
    "epochs = 30\n",
    "train_losses, test_losses = [], []\n",
    "accuracy_history = []\n",
    "\n",
    "model.train()\n",
    "\n",
    "# maybe do the training for the scratch \n",
    "# https://www.kaggle.com/code/neupane9sujal/multi-level-perceptron-from-scratch?scriptVersionId=153403387\n",
    "\n",
    "for epoch in range(epochs):\n",
    "    train_loss = 0.0\n",
    "    acc_val = 0\n",
    "\n",
    "    for data, target in train_loader:\n",
    "\n",
    "        optimizer.zero_grad()\n",
    "\n",
    "        output = model(data)\n",
    "\n",
    "        loss = criterion(output, target)\n",
    "        loss.backward()\n",
    "        optimizer.step()\n",
    "        acc_val += np.mean(np.argmax(output.detach().numpy(), axis=1) == target.detach().numpy())\n",
    "\n",
    "        train_loss += loss.item()*data.size(0)\n",
    "    \n",
    "    accuracy_history.append(acc_val/len(train_loader))\n",
    "    train_losses.append(train_loss/len(train_loader.dataset))\n",
    "    print(f'Epoch: {epoch+1}, Accuracy: {acc_val/len(train_loader)}, Loss: {train_loss/len(train_loader.dataset)}')"
   ]
  },
  {
   "cell_type": "code",
   "execution_count": 117,
   "metadata": {},
   "outputs": [
    {
     "data": {
      "text/plain": [
       "Text(0.5, 1.0, 'Train Loss of pytorch network')"
      ]
     },
     "execution_count": 117,
     "metadata": {},
     "output_type": "execute_result"
    },
    {
     "data": {
      "image/png": "[encoded data removed]",
      "text/plain": [
       "<Figure size 640x480 with 1 Axes>"
      ]
     },
     "metadata": {},
     "output_type": "display_data"
    }
   ],
   "source": [
    "plt.plot(train_losses)\n",
    "plt.title('Train Loss of pytorch network')\n"
   ]
  },
  {
   "cell_type": "code",
   "execution_count": 118,
   "metadata": {},
   "outputs": [
    {
     "name": "stdout",
     "output_type": "stream",
     "text": [
      "Test loss: 0.08\n",
      "Test accuracy: 98.5%\n"
     ]
    }
   ],
   "source": [
    "test_loss = 0.0\n",
    "correct = 0\n",
    "model.eval()\n",
    "\n",
    "for data, target in test_loader:\n",
    "\n",
    "    output = model(data)\n",
    "    loss = criterion(output, target)\n",
    "    test_loss += loss.item()*data.size(0)\n",
    "\n",
    "    pred = torch.max(output, 1)[1]\n",
    "    correct += pred.eq(target.view_as(pred)).sum()\n",
    "\n",
    "\n",
    "print('Test loss: {:.1}'.format(test_loss/len(test_loader.dataset)))\n",
    "print('Test accuracy: {:.1%}'.format(correct/len(test_loader.dataset))) \n",
    "\n"
   ]
  }
 ],
 "metadata": {
  "kernelspec": {
   "display_name": "experiments",
   "language": "python",
   "name": "python3"
  },
  "language_info": {
   "codemirror_mode": {
    "name": "ipython",
    "version": 3
   },
   "file_extension": ".py",
   "mimetype": "text/x-python",
   "name": "python",
   "nbconvert_exporter": "python",
   "pygments_lexer": "ipython3",
   "version": "3.8.18"
  }
 },
 "nbformat": 4,
 "nbformat_minor": 2
}
